{
  "metadata": {
    "kernelspec": {
      "name": "python",
      "display_name": "Python (Pyodide)",
      "language": "python"
    },
    "language_info": {
      "codemirror_mode": {
        "name": "python",
        "version": 3
      },
      "file_extension": ".py",
      "mimetype": "text/x-python",
      "name": "python",
      "nbconvert_exporter": "python",
      "pygments_lexer": "ipython3",
      "version": "3.8"
    }
  },
  "nbformat_minor": 4,
  "nbformat": 4,
  "cells": [
    {
      "cell_type": "code",
      "source": "def reverse_string(s):\n return s[::-1]\nprint(reverse_string(\"hello\")) ",
      "metadata": {
        "trusted": true
      },
      "outputs": [
        {
          "name": "stdout",
          "text": "olleh\n",
          "output_type": "stream"
        }
      ],
      "execution_count": 1
    },
    {
      "cell_type": "code",
      "source": "def count_vowels(s):\n    vowels = \"aeiouAEIOU\"\n    count = sum(1 for char in s if char in vowels)\n    return count\n\nprint(count_vowels(\"hello world\"))",
      "metadata": {
        "trusted": true
      },
      "outputs": [
        {
          "name": "stdout",
          "text": "3\n",
          "output_type": "stream"
        }
      ],
      "execution_count": 8
    },
    {
      "cell_type": "code",
      "source": "def is_palindrome(s):\n return s == s[::-1]\nprint(is_palindrome(\"racecar\")) \nprint(is_palindrome(\"hello\"))",
      "metadata": {
        "trusted": true
      },
      "outputs": [
        {
          "name": "stdout",
          "text": "True\nFalse\n",
          "output_type": "stream"
        }
      ],
      "execution_count": 11
    },
    {
      "cell_type": "code",
      "source": "def are_anagrams(str1, str2):\n return sorted(str1) == sorted(str2)\nprint(are_anagrams(\"listen\", \"silent\"))\nprint(are_anagrams(\"hello\", \"world\")) ",
      "metadata": {
        "trusted": true
      },
      "outputs": [
        {
          "name": "stdout",
          "text": "True\nFalse\n",
          "output_type": "stream"
        }
      ],
      "execution_count": 12
    },
    {
      "cell_type": "code",
      "source": "def find_substring_occurrences(string, substring):\n    start = 0\n    positions = []\n    while start < len(string):\n        start = string.find(substring, start)\n        if start == -1:\n            break\n        positions.append(start)\n        start += len(substring)\n    return positions\n\nprint(find_substring_occurrences(\"hello world, hello universe\", \"hello\"))",
      "metadata": {
        "trusted": true
      },
      "outputs": [
        {
          "name": "stdout",
          "text": "[0, 13]\n",
          "output_type": "stream"
        }
      ],
      "execution_count": 16
    },
    {
      "cell_type": "code",
      "source": "def compress_string(s):\n    compressed = []\n    count = 1\n\n    for i in range(1, len(s)):\n        if s[i] == s[i - 1]:\n            count += 1\n        else:\n            compressed.append(s[i - 1] + str(count))\n            count = 1\n\n    compressed.append(s[-1] + str(count))  # Append the last character\n    return \"\".join(compressed)\n\nprint(compress_string(\"aabcccccaaa\"))\n",
      "metadata": {
        "trusted": true
      },
      "outputs": [
        {
          "name": "stdout",
          "text": "a2b1c5a3\n",
          "output_type": "stream"
        }
      ],
      "execution_count": 19
    },
    {
      "cell_type": "code",
      "source": "def has_unique_chars(s):\n    return len(s) == len(set(s))\nprint(has_unique_chars(\"abcdef\"))\n# Output: True\nprint(has_unique_chars(\"hello\"))",
      "metadata": {
        "trusted": true
      },
      "outputs": [
        {
          "name": "stdout",
          "text": "True\nFalse\n",
          "output_type": "stream"
        }
      ],
      "execution_count": 21
    },
    {
      "cell_type": "code",
      "source": "def convert_case(s, to_upper=True):\n    return s.upper() if to_upper else s.lower()\nprint(convert_case(\"Hello World\", to_upper=True)) \nprint(convert_case(\"Hello World\", to_upper=False)) ",
      "metadata": {
        "trusted": true
      },
      "outputs": [
        {
          "name": "stdout",
          "text": "HELLO WORLD\nhello world\n",
          "output_type": "stream"
        }
      ],
      "execution_count": 24
    },
    {
      "cell_type": "code",
      "source": "def count_words(s):\n return len(s.split())\nprint(count_words(\"Hello world! This is a test.\")) ",
      "metadata": {
        "trusted": true
      },
      "outputs": [
        {
          "name": "stdout",
          "text": "6\n",
          "output_type": "stream"
        }
      ],
      "execution_count": 25
    },
    {
      "cell_type": "code",
      "source": "def concatenate_strings(str1, str2):\n return \"\".join([str1, str2])\nprint(concatenate_strings(\"Hello\", \"World\"))",
      "metadata": {
        "trusted": true
      },
      "outputs": [
        {
          "name": "stdout",
          "text": "HelloWorld\n",
          "output_type": "stream"
        }
      ],
      "execution_count": 26
    },
    {
      "cell_type": "code",
      "source": "def remove_element(lst, element):\n return [x for x in lst if x != element]\nprint(remove_element([1, 2, 3, 2, 4, 2], 2)) ",
      "metadata": {
        "trusted": true
      },
      "outputs": [
        {
          "name": "stdout",
          "text": "[1, 3, 4]\n",
          "output_type": "stream"
        }
      ],
      "execution_count": 27
    },
    {
      "cell_type": "code",
      "source": "def second_largest(lst):\n unique_numbers = list(set(lst))\n if len(unique_numbers) < 2:\n     return None # Return None if there is no second largest\n unique_numbers.sort()\n return unique_numbers[-2]\nprint(second_largest([10, 20, 4, 45, 99])) ",
      "metadata": {
        "trusted": true
      },
      "outputs": [
        {
          "name": "stdout",
          "text": "45\n",
          "output_type": "stream"
        }
      ],
      "execution_count": 29
    },
    {
      "cell_type": "code",
      "source": "def count_occurrences(lst):\n    counts = {}\n    for item in lst:\n        counts[item] = counts.get(item, 0) + 1\n    return counts\n\nprint(count_occurrences([1, 2, 2, 3, 3, 3, 4]))\n",
      "metadata": {
        "trusted": true
      },
      "outputs": [
        {
          "name": "stdout",
          "text": "{1: 1, 2: 2, 3: 3, 4: 1}\n",
          "output_type": "stream"
        }
      ],
      "execution_count": 33
    },
    {
      "cell_type": "code",
      "source": "def reverse_list(lst):\n    left, right = 0, len(lst) - 1\n    while left < right:\n        lst[left], lst[right] = lst[right], lst[left]\n        left += 1\n        right -= 1\n\nmy_list = [1, 2, 3, 4, 5]\nreverse_list(my_list)\nprint(my_list)",
      "metadata": {
        "trusted": true
      },
      "outputs": [
        {
          "name": "stdout",
          "text": "[5, 4, 3, 2, 1]\n",
          "output_type": "stream"
        }
      ],
      "execution_count": 2
    },
    {
      "cell_type": "code",
      "source": "def remove_duplicates(lst):\n seen = set()\n unique_list = []\n for item in lst:\n     if item not in seen:\n         unique_list.append(item)\n seen.add(item)\n return unique_list\nprint(remove_duplicates([1, 2, 2, 3, 4, 3, 5]))",
      "metadata": {
        "trusted": true
      },
      "outputs": [
        {
          "name": "stdout",
          "text": "[1, 2, 2, 3, 4, 3, 5]\n",
          "output_type": "stream"
        }
      ],
      "execution_count": 5
    },
    {
      "cell_type": "code",
      "source": "def is_sorted(lst):\n    if lst == sorted(lst):\n        return \"Ascending\"\n    elif lst == sorted(lst, reverse=True):\n        return \"Descending\"\n    else:\n        return \"Not sorted\"\n\nprint(is_sorted([1, 2, 3, 4]))  # Output: \"Ascending\"\nprint(is_sorted([4, 3, 2, 1]))  # Output: \"Descending\"\nprint(is_sorted([1, 3, 2, 4]))  # Output: \"Not sorted\"\n",
      "metadata": {
        "trusted": true
      },
      "outputs": [
        {
          "name": "stdout",
          "text": "Ascending\nDescending\nNot sorted\n",
          "output_type": "stream"
        }
      ],
      "execution_count": 9
    },
    {
      "cell_type": "code",
      "source": "def merge_sorted_lists(list1, list2):\n    merged = []\n    i, j = 0, 0\n    while i < len(list1) and j < len(list2):\n        if list1[i] < list2[j]:\n            merged.append(list1[i])\n            i += 1\n        else:\n            merged.append(list2[j])\n            j += 1\n    merged.extend(list1[i:])\n    merged.extend(list2[j:])\n    return merged\n\nprint(merge_sorted_lists([1, 3, 5], [2, 4, 6]))\n",
      "metadata": {
        "trusted": true
      },
      "outputs": [
        {
          "name": "stdout",
          "text": "[1, 2, 3, 4, 5, 6]\n",
          "output_type": "stream"
        }
      ],
      "execution_count": 11
    },
    {
      "cell_type": "code",
      "source": "def intersection(lst1, lst2):\n return [item for item in lst1 if item in lst2]\nprint(intersection([1, 2, 3, 4], [3, 4, 5, 6])) ",
      "metadata": {
        "trusted": true
      },
      "outputs": [
        {
          "name": "stdout",
          "text": "[3, 4]\n",
          "output_type": "stream"
        }
      ],
      "execution_count": 12
    },
    {
      "cell_type": "code",
      "source": "def union(lst1, lst2):\n    return list(set(lst1 + lst2))\n    print(union([1, 2, 3], [3, 4, 5]))",
      "metadata": {
        "trusted": true
      },
      "outputs": [],
      "execution_count": 15
    },
    {
      "cell_type": "code",
      "source": "import random\ndef shuffle_list(lst):\n for i in range(len(lst) - 1, 0, -1):\n     j = random.randint(0, i)\n lst[i], lst[j] = lst[j], lst[i]\nmy_list = [1, 2, 3, 4, 5]\nshuffle_list(my_list)\nprint(my_list)",
      "metadata": {
        "trusted": true
      },
      "outputs": [
        {
          "name": "stdout",
          "text": "[1, 2, 3, 4, 5]\n",
          "output_type": "stream"
        }
      ],
      "execution_count": 17
    },
    {
      "cell_type": "code",
      "source": "def common_elements(tuple1, tuple2):\n return tuple(set(tuple1) & set(tuple2))\nprint(common_elements((1, 2, 3), (2, 3, 4))) ",
      "metadata": {
        "trusted": true
      },
      "outputs": [
        {
          "name": "stdout",
          "text": "(2, 3)\n",
          "output_type": "stream"
        }
      ],
      "execution_count": 18
    },
    {
      "cell_type": "code",
      "source": "def input_and_find_intersection():\n    set1 = set(map(int, input(\"Enter the first set of integers separated by commas: \").split(',')))\n    set2 = set(map(int, input(\"Enter the second set of integers separated by commas: \").split(',')))\n    intersection = set1 & set2\n    print(f\"Intersection: {intersection}\")\n\n# Example input: \"1,2,3\" and \"2,3,4\"\ninput_and_find_intersection()  # Output: Intersection: {2, 3}",
      "metadata": {
        "trusted": true
      },
      "outputs": [],
      "execution_count": null
    },
    {
      "cell_type": "code",
      "source": "def concatenate_tuples(tuple1, tuple2):\n return tuple1 + tuple2\nprint(concatenate_tuples((1, 2, 3), (4, 5, 6))) ",
      "metadata": {
        "trusted": true
      },
      "outputs": [],
      "execution_count": null
    },
    {
      "cell_type": "code",
      "source": "def difference_of_sets():\n set1 = set(input(\"Enter the first set of strings, separated by spaces: \").split())\n set2 = set(input(\"Enter the second set of strings, separated by spaces: \").split())\n difference = set1 - set2\n print(f\"Elements in the first set but not in the second: {difference}\")\ndifference_of_sets()",
      "metadata": {
        "trusted": true
      },
      "outputs": [],
      "execution_count": null
    },
    {
      "cell_type": "code",
      "source": " def extract_tuple_range(tpl, start, end):\n return tpl[start:end]\nprint(extract_tuple_range((1, 2, 3, 4, 5, 6), 2, 5)) ",
      "metadata": {
        "trusted": true
      },
      "outputs": [],
      "execution_count": null
    },
    {
      "cell_type": "code",
      "source": "def union_of_sets():\n set1 = set(input(\"Enter the first set of characters, separated by spaces: \").split())\n set2 = set(input(\"Enter the second set of characters, separated by spaces: \").split())\n union = set1 | set2\n print(f\"Union of the sets: {union}\")\nunion_of_sets()",
      "metadata": {
        "trusted": true
      },
      "outputs": [],
      "execution_count": null
    },
    {
      "cell_type": "code",
      "source": "def max_min_tuple(tpl):\n return max(tpl), min(tpl)",
      "metadata": {
        "trusted": true
      },
      "outputs": [],
      "execution_count": null
    },
    {
      "cell_type": "code",
      "source": "def set_operations():\n set1 = {1, 2, 3, 4}\n set2 = {3, 4, 5, 6}\n print(f\"Union: {set1 | set2}\")\n print(f\"Intersection: {set1 & set2}\")\n print(f\"Difference: {set1 - set2}\")\n    set_operations()\n",
      "metadata": {
        "trusted": true
      },
      "outputs": [],
      "execution_count": null
    },
    {
      "cell_type": "code",
      "source": "def symmetric_difference_of_sets():\n set1 = set(input(\"Enter the first set of strings, separated by spaces: \").split())\n set2 = set(input(\"Enter the second set of strings, separated by spaces: \").split())\n sym_diff = set1 ^ set2\n print(f\"Symmetric difference of the sets: {sym_diff}\")\nsymmetric_difference_of_sets()\n",
      "metadata": {
        "trusted": true
      },
      "outputs": [],
      "execution_count": null
    },
    {
      "cell_type": "code",
      "source": "def word_frequencies(words):\n frequency_dict = {}\n for word in words:\n frequency_dict[word] = frequency_dict.get(word, 0) + 1\n return frequency_dict\nprint(word_frequencies([\"apple\", \"banana\", \"apple\", \"orange\", \"banana\", \"apple\"]))",
      "metadata": {
        "trusted": true
      },
      "outputs": [],
      "execution_count": null
    },
    {
      "cell_type": "code",
      "source": ". def merge_dictionaries(dict1, dict2):\n merged_dict = dict1.copy()\n for key, value in dict2.items():\n if key in merged_dict:\n merged_dict[key] += value\n else:\n merged_dict[key] = value\n return merged_dict\ndict1 = {'a': 10, 'b': 20}\ndict2 = {'b': 30, 'c': 40}\nprint(merge_dictionaries(dict1, dict2)) # Output: {'a': 10, 'b': 50, 'c': 40}",
      "metadata": {
        "trusted": true
      },
      "outputs": [],
      "execution_count": null
    },
    {
      "cell_type": "code",
      "source": "def access_nested_value(d, keys):\n for key in keys:\n if key in d:\n d = d[key]\n else:\n return None\n return d\nnested_dict = {'a': {'b': {'c': 42}}}\nkeys = ['a', 'b', 'c']\nprint(access_nested_value(nested_dict, keys))\nkeys = ['a', 'x', 'c']\nprint(access_nested_value(nested_dict, keys))",
      "metadata": {
        "trusted": true
      },
      "outputs": [],
      "execution_count": null
    },
    {
      "cell_type": "code",
      "source": "def sort_dict_by_value(d, ascending=True):\n return dict(sorted(d.items(), key=lambda item: item[1], reverse=not ascending))\nmy_dict = {'a': 3, 'b': 1, 'c': 2}\nprint(sort_dict_by_value(my_dict)) # Sort in ascending order\nprint(sort_dict_by_value(my_dict, ascending=False)) # Sort in descending order",
      "metadata": {
        "trusted": true
      },
      "outputs": [],
      "execution_count": null
    },
    {
      "cell_type": "code",
      "source": ". def invert_dict(d):\n inverted = {}\n for key, value in d.items():\n if value not in inverted:\n inverted[value] = [key]\n else:\n inverted[value].append(key)\n return inverted\nmy_dict = {'a': 1, 'b': 2, 'c': 1, 'd': 3}\nprint(invert_dict(my_dict))",
      "metadata": {
        "trusted": true
      },
      "outputs": [],
      "execution_count": null
    },
    {
      "cell_type": "code",
      "source": "",
      "metadata": {
        "trusted": true
      },
      "outputs": [],
      "execution_count": null
    }
  ]
}