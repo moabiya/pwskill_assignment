{
  "metadata": {
    "kernelspec": {
      "name": "python",
      "display_name": "Python (Pyodide)",
      "language": "python"
    },
    "language_info": {
      "codemirror_mode": {
        "name": "python",
        "version": 3
      },
      "file_extension": ".py",
      "mimetype": "text/x-python",
      "name": "python",
      "nbconvert_exporter": "python",
      "pygments_lexer": "ipython3",
      "version": "3.8"
    }
  },
  "nbformat_minor": 4,
  "nbformat": 4,
  "cells": [
    {
      "cell_type": "code",
      "source": "import numpy as np\n\narr = np.array([0, 1, 2, 3, 4, 5])\nprint(arr.dtype)  # Output: int64",
      "metadata": {
        "trusted": true
      },
      "outputs": [
        {
          "name": "stdout",
          "text": "int32\n",
          "output_type": "stream"
        }
      ],
      "execution_count": 1
    },
    {
      "cell_type": "code",
      "source": "arr = np.array([1.5, 2.6, 3.7])\nprint(arr.dtype == np.float64)  # Output: True",
      "metadata": {
        "trusted": true
      },
      "outputs": [
        {
          "name": "stdout",
          "text": "True\n",
          "output_type": "stream"
        }
      ],
      "execution_count": 2
    },
    {
      "cell_type": "code",
      "source": "arr = np.array([1+2j, 3-4j, 5j], dtype=np.complex128)\nprint(arr)\n",
      "metadata": {
        "trusted": true
      },
      "outputs": [
        {
          "name": "stdout",
          "text": "[1.+2.j 3.-4.j 0.+5.j]\n",
          "output_type": "stream"
        }
      ],
      "execution_count": 3
    },
    {
      "cell_type": "code",
      "source": "arr = np.array([1, 2, 3])\narr_float32 = arr.astype(np.float32)\nprint(arr_float32.dtype)  # Output: float32",
      "metadata": {
        "trusted": true
      },
      "outputs": [
        {
          "name": "stdout",
          "text": "float32\n",
          "output_type": "stream"
        }
      ],
      "execution_count": 4
    },
    {
      "cell_type": "code",
      "source": "arr = np.array([1.123456, 2.345678], dtype=np.float64)\narr_float32 = arr.astype(np.float32)\nprint(arr_float32)",
      "metadata": {
        "trusted": true
      },
      "outputs": [
        {
          "name": "stdout",
          "text": "[1.123456 2.345678]\n",
          "output_type": "stream"
        }
      ],
      "execution_count": 5
    },
    {
      "cell_type": "code",
      "source": "def array_attributes(arr):\n    print(\"Shape:\", arr.shape)\n    print(\"Size:\", arr.size)\n    print(\"Data type:\", arr.dtype) ",
      "metadata": {
        "trusted": true
      },
      "outputs": [],
      "execution_count": 8
    },
    {
      "cell_type": "code",
      "source": "def array_dimension(arr):\n    return arr.ndim",
      "metadata": {
        "trusted": true
      },
      "outputs": [],
      "execution_count": 7
    },
    {
      "cell_type": "code",
      "source": "def item_size_info(arr):\n    print(\"Item size:\", arr.itemsize)\n    print(\"Total size in bytes:\", arr.size * arr.itemsize)",
      "metadata": {
        "trusted": true
      },
      "outputs": [],
      "execution_count": 9
    },
    {
      "cell_type": "code",
      "source": "def array_strides(arr):\n    print(\"Strides:\", arr.strides)",
      "metadata": {
        "trusted": true
      },
      "outputs": [],
      "execution_count": 10
    },
    {
      "cell_type": "code",
      "source": "def shape_stride_relationship(arr):\n    print(\"Shape:\", arr.shape)\n    print(\"Strides:\", arr.strides)",
      "metadata": {
        "trusted": true
      },
      "outputs": [],
      "execution_count": 11
    },
    {
      "cell_type": "code",
      "source": "def create_zeros_array(n):\n    return np.zeros(n)",
      "metadata": {
        "trusted": true
      },
      "outputs": [],
      "execution_count": 12
    },
    {
      "cell_type": "code",
      "source": "def create_ones_matrix(rows, cols):\n    return np.ones((rows, cols))",
      "metadata": {
        "trusted": true
      },
      "outputs": [],
      "execution_count": 13
    },
    {
      "cell_type": "code",
      "source": "def generate_range_array(start, stop, step):\n    return np.arange(start, stop, step)",
      "metadata": {
        "trusted": true
      },
      "outputs": [],
      "execution_count": 14
    },
    {
      "cell_type": "code",
      "source": "def generate_linear_space(start, stop, num):\n    return np.linspace(start, stop, num)",
      "metadata": {
        "trusted": true
      },
      "outputs": [],
      "execution_count": 15
    },
    {
      "cell_type": "code",
      "source": "def create_identity_matrix(n):\n    return np.eye(n)",
      "metadata": {
        "trusted": true
      },
      "outputs": [],
      "execution_count": 16
    },
    {
      "cell_type": "code",
      "source": "def list_to_array(lst):\n    return np.array(lst)",
      "metadata": {
        "trusted": true
      },
      "outputs": [],
      "execution_count": 17
    },
    {
      "cell_type": "code",
      "source": "arr = np.array([1, 2, 3, 4, 5])\nview_arr = arr.view()  # Creates a new view of the same data\nview_arr[0] = 10  # Modifies the original array\nprint(arr)  # Output: [10  2  3  4  5]",
      "metadata": {
        "trusted": true
      },
      "outputs": [
        {
          "name": "stdout",
          "text": "[10  2  3  4  5]\n",
          "output_type": "stream"
        }
      ],
      "execution_count": 18
    },
    {
      "cell_type": "code",
      "source": "import numpy as np\n\ndef concatenate_arrays(arr1, arr2, axis):\n  return np.concatenate((arr1, arr2), axis=axis)",
      "metadata": {
        "trusted": true
      },
      "outputs": [],
      "execution_count": 19
    },
    {
      "cell_type": "code",
      "source": "arr1 = np.array([[1, 2], [3, 4]])\narr2 = np.array([[5, 6], [7, 8]])\n\nresult = np.concatenate((arr1, arr2), axis=1)\nprint(result)",
      "metadata": {
        "trusted": true
      },
      "outputs": [
        {
          "name": "stdout",
          "text": "[[1 2 5 6]\n [3 4 7 8]]\n",
          "output_type": "stream"
        }
      ],
      "execution_count": 20
    },
    {
      "cell_type": "code",
      "source": "def vertical_stack(arrays):\n  return np.vstack(arrays)",
      "metadata": {
        "trusted": true
      },
      "outputs": [],
      "execution_count": 21
    },
    {
      "cell_type": "code",
      "source": "def create_integer_range(start, end, step):\n  return np.arange(start, end+1, step)",
      "metadata": {
        "trusted": true
      },
      "outputs": [],
      "execution_count": 22
    },
    {
      "cell_type": "code",
      "source": "def generate_equally_spaced_values(start, end, num):\n  return np.linspace(start, end, num)",
      "metadata": {
        "trusted": true
      },
      "outputs": [],
      "execution_count": 23
    },
    {
      "cell_type": "code",
      "source": "def generate_logarithmically_spaced_values(start, end, num):\n  return np.logspace(np.log10(start), np.log10(end), num)",
      "metadata": {
        "trusted": true
      },
      "outputs": [],
      "execution_count": 24
    },
    {
      "cell_type": "code",
      "source": "import pandas as pd\n\nnp.random.seed(42)\narr = np.random.randint(1, 101, size=(5, 3))\ndf = pd.DataFrame(arr, columns=['A', 'B', 'C'])\nprint(df)",
      "metadata": {
        "trusted": true
      },
      "outputs": [
        {
          "name": "stderr",
          "text": "<ipython-input-25-d2543bef09e1>:1: DeprecationWarning: \nPyarrow will become a required dependency of pandas in the next major release of pandas (pandas 3.0),\n(to allow more performant data types, such as the Arrow string type, and better interoperability with other libraries)\nbut was not found to be installed on your system.\nIf this would cause problems for you,\nplease provide us feedback at https://github.com/pandas-dev/pandas/issues/54466\n        \n  import pandas as pd\n",
          "output_type": "stream"
        },
        {
          "name": "stdout",
          "text": "    A   B    C\n0  52  93   15\n1  72  61   21\n2  83  87   75\n3  75  88  100\n4  24   3   22\n",
          "output_type": "stream"
        }
      ],
      "execution_count": 25
    },
    {
      "cell_type": "code",
      "source": "def replace_negative_values(df, column_name):\n  df[column_name] = np.where(df[column_name] < 0, 0, df[column_name])",
      "metadata": {
        "trusted": true
      },
      "outputs": [],
      "execution_count": 26
    },
    {
      "cell_type": "code",
      "source": "arr = np.array([10, 20, 30, 40, 50])\nprint(arr[2])  # Output: 30",
      "metadata": {
        "trusted": true
      },
      "outputs": [
        {
          "name": "stdout",
          "text": "30\n",
          "output_type": "stream"
        }
      ],
      "execution_count": 27
    },
    {
      "cell_type": "code",
      "source": "arr_2d = np.array([[1, 2, 3], [4, 5, 6], [7, 8, 9]])\nprint(arr_2d[1, 2])  # Output: 6",
      "metadata": {
        "trusted": true
      },
      "outputs": [
        {
          "name": "stdout",
          "text": "6\n",
          "output_type": "stream"
        }
      ],
      "execution_count": 28
    },
    {
      "cell_type": "code",
      "source": "arr = np.array([3, 8, 2, 10, 5, 7])\nresult = arr[arr > 5]\nprint(result)  # Output: [ 8 10  7]",
      "metadata": {
        "trusted": true
      },
      "outputs": [
        {
          "name": "stdout",
          "text": "[ 8 10  7]\n",
          "output_type": "stream"
        }
      ],
      "execution_count": 29
    },
    {
      "cell_type": "code",
      "source": "arr = np.array([1, 2, 3, 4, 5, 6, 7, 8, 9])\nresult = arr[2:6]\nprint(result)  # Output: [3 4 5 6]",
      "metadata": {
        "trusted": true
      },
      "outputs": [
        {
          "name": "stdout",
          "text": "[3 4 5 6]\n",
          "output_type": "stream"
        }
      ],
      "execution_count": 30
    },
    {
      "cell_type": "code",
      "source": "arr_2d = np.array([[1, 2, 3], [4, 5, 6], [7, 8, 9]])\nresult = arr_2d[1:3, 1:3]\nprint(result)  # Output: [[5 6]\n                 #        [8 9]]",
      "metadata": {
        "trusted": true
      },
      "outputs": [
        {
          "name": "stdout",
          "text": "[[5 6]\n [8 9]]\n",
          "output_type": "stream"
        }
      ],
      "execution_count": 31
    },
    {
      "cell_type": "code",
      "source": "def extract_elements(arr, indices):\n  return arr[indices]",
      "metadata": {
        "trusted": true
      },
      "outputs": [],
      "execution_count": 32
    },
    {
      "cell_type": "code",
      "source": "def filter_elements(arr, threshold):\n  return arr[arr > threshold]",
      "metadata": {
        "trusted": true
      },
      "outputs": [],
      "execution_count": 33
    },
    {
      "cell_type": "code",
      "source": "def extract_3d_elements(arr, indices1, indices2, indices3):\n  return arr[indices1, indices2, indices3]",
      "metadata": {
        "trusted": true
      },
      "outputs": [],
      "execution_count": 34
    },
    {
      "cell_type": "code",
      "source": "def filter_multiple_conditions(arr, condition1, condition2):\n  return arr[(condition1) & (condition2)]",
      "metadata": {
        "trusted": true
      },
      "outputs": [],
      "execution_count": 35
    },
    {
      "cell_type": "code",
      "source": "def extract_elements_by_indices(arr, row_indices, col_indices):\n  return arr[row_indices, col_indices]",
      "metadata": {
        "trusted": true
      },
      "outputs": [],
      "execution_count": 36
    },
    {
      "cell_type": "code",
      "source": "arr = np.array([[1, 2, 3], [4, 5, 6], [7, 8, 9]])\narr += 5\nprint(arr)",
      "metadata": {
        "trusted": true
      },
      "outputs": [
        {
          "name": "stdout",
          "text": "[[ 6  7  8]\n [ 9 10 11]\n [12 13 14]]\n",
          "output_type": "stream"
        }
      ],
      "execution_count": 37
    },
    {
      "cell_type": "code",
      "source": "arr1 = np.array([[2, 3, 4]])\narr2 = np.array([[1, 2, 3], [4, 5, 6], [7, 8, 9]])\nresult = arr1 * arr2\nprint(result)",
      "metadata": {
        "trusted": true
      },
      "outputs": [
        {
          "name": "stdout",
          "text": "[[ 2  6 12]\n [ 8 15 24]\n [14 24 36]]\n",
          "output_type": "stream"
        }
      ],
      "execution_count": 38
    },
    {
      "cell_type": "code",
      "source": "arr1 = np.array([[1, 2, 3, 4]])\narr2 = np.array([[1, 2, 3], [4, 5, 6], [7, 8, 9], [10, 11, 12]])\nresult = arr1 + arr2\nprint(result)",
      "metadata": {
        "trusted": true
      },
      "outputs": [
        {
          "ename": "<class 'ValueError'>",
          "evalue": "operands could not be broadcast together with shapes (1,4) (4,3) ",
          "traceback": [
            "\u001b[0;31m---------------------------------------------------------------------------\u001b[0m",
            "\u001b[0;31mValueError\u001b[0m                                Traceback (most recent call last)",
            "Cell \u001b[0;32mIn[39], line 3\u001b[0m\n\u001b[1;32m      1\u001b[0m arr1 \u001b[38;5;241m=\u001b[39m np\u001b[38;5;241m.\u001b[39marray([[\u001b[38;5;241m1\u001b[39m, \u001b[38;5;241m2\u001b[39m, \u001b[38;5;241m3\u001b[39m, \u001b[38;5;241m4\u001b[39m]])\n\u001b[1;32m      2\u001b[0m arr2 \u001b[38;5;241m=\u001b[39m np\u001b[38;5;241m.\u001b[39marray([[\u001b[38;5;241m1\u001b[39m, \u001b[38;5;241m2\u001b[39m, \u001b[38;5;241m3\u001b[39m], [\u001b[38;5;241m4\u001b[39m, \u001b[38;5;241m5\u001b[39m, \u001b[38;5;241m6\u001b[39m], [\u001b[38;5;241m7\u001b[39m, \u001b[38;5;241m8\u001b[39m, \u001b[38;5;241m9\u001b[39m], [\u001b[38;5;241m10\u001b[39m, \u001b[38;5;241m11\u001b[39m, \u001b[38;5;241m12\u001b[39m]])\n\u001b[0;32m----> 3\u001b[0m result \u001b[38;5;241m=\u001b[39m \u001b[43marr1\u001b[49m\u001b[43m \u001b[49m\u001b[38;5;241;43m+\u001b[39;49m\u001b[43m \u001b[49m\u001b[43marr2\u001b[49m\n\u001b[1;32m      4\u001b[0m \u001b[38;5;28mprint\u001b[39m(result)\n",
            "\u001b[0;31mValueError\u001b[0m: operands could not be broadcast together with shapes (1,4) (4,3) "
          ],
          "output_type": "error"
        }
      ],
      "execution_count": 39
    },
    {
      "cell_type": "code",
      "source": "arr1 = np.array([[1], [2], [3]])\narr2 = np.array([[4, 5, 6]])\nresult = arr1 + arr2\nprint(result)",
      "metadata": {
        "trusted": true
      },
      "outputs": [
        {
          "name": "stdout",
          "text": "[[5 6 7]\n [6 7 8]\n [7 8 9]]\n",
          "output_type": "stream"
        }
      ],
      "execution_count": 40
    },
    {
      "cell_type": "code",
      "source": "arr1 = np.array([[1, 2, 3], [4, 5, 6]])\narr2 = np.array([[1, 2], [3, 4]])\nresult = arr1[:, np.newaxis] * arr2\nprint(result)",
      "metadata": {
        "trusted": true
      },
      "outputs": [
        {
          "ename": "<class 'ValueError'>",
          "evalue": "operands could not be broadcast together with shapes (2,1,3) (2,2) ",
          "traceback": [
            "\u001b[0;31m---------------------------------------------------------------------------\u001b[0m",
            "\u001b[0;31mValueError\u001b[0m                                Traceback (most recent call last)",
            "Cell \u001b[0;32mIn[41], line 3\u001b[0m\n\u001b[1;32m      1\u001b[0m arr1 \u001b[38;5;241m=\u001b[39m np\u001b[38;5;241m.\u001b[39marray([[\u001b[38;5;241m1\u001b[39m, \u001b[38;5;241m2\u001b[39m, \u001b[38;5;241m3\u001b[39m], [\u001b[38;5;241m4\u001b[39m, \u001b[38;5;241m5\u001b[39m, \u001b[38;5;241m6\u001b[39m]])\n\u001b[1;32m      2\u001b[0m arr2 \u001b[38;5;241m=\u001b[39m np\u001b[38;5;241m.\u001b[39marray([[\u001b[38;5;241m1\u001b[39m, \u001b[38;5;241m2\u001b[39m], [\u001b[38;5;241m3\u001b[39m, \u001b[38;5;241m4\u001b[39m]])\n\u001b[0;32m----> 3\u001b[0m result \u001b[38;5;241m=\u001b[39m \u001b[43marr1\u001b[49m\u001b[43m[\u001b[49m\u001b[43m:\u001b[49m\u001b[43m,\u001b[49m\u001b[43m \u001b[49m\u001b[43mnp\u001b[49m\u001b[38;5;241;43m.\u001b[39;49m\u001b[43mnewaxis\u001b[49m\u001b[43m]\u001b[49m\u001b[43m \u001b[49m\u001b[38;5;241;43m*\u001b[39;49m\u001b[43m \u001b[49m\u001b[43marr2\u001b[49m\n\u001b[1;32m      4\u001b[0m \u001b[38;5;28mprint\u001b[39m(result)\n",
            "\u001b[0;31mValueError\u001b[0m: operands could not be broadcast together with shapes (2,1,3) (2,2) "
          ],
          "output_type": "error"
        }
      ],
      "execution_count": 41
    },
    {
      "cell_type": "code",
      "source": "arr = np.array([[1, 2, 3], [4, 5, 6]])\ncol_mean = np.mean(arr, axis=0)\nprint(col_mean)",
      "metadata": {
        "trusted": true
      },
      "outputs": [
        {
          "name": "stdout",
          "text": "[2.5 3.5 4.5]\n",
          "output_type": "stream"
        }
      ],
      "execution_count": 42
    },
    {
      "cell_type": "code",
      "source": "arr = np.array([[1, 2, 3], [4, 5, 6]])\nrow_max = np.max(arr, axis=1)\nprint(row_max)",
      "metadata": {
        "trusted": true
      },
      "outputs": [
        {
          "name": "stdout",
          "text": "[3 6]\n",
          "output_type": "stream"
        }
      ],
      "execution_count": 43
    },
    {
      "cell_type": "code",
      "source": "arr = np.array([[1, 2, 3], [4, 5, 6]])\ncol_max_indices = np.argmax(arr, axis=0)\nprint(col_max_indices)",
      "metadata": {
        "trusted": true
      },
      "outputs": [
        {
          "name": "stdout",
          "text": "[1 1 1]\n",
          "output_type": "stream"
        }
      ],
      "execution_count": 44
    },
    {
      "cell_type": "code",
      "source": "def moving_sum(arr, window_size):\n  return np.cumsum(arr, axis=1)[:, window_size-1:]\n\narr = np.array([[1, 2, 3], [4, 5, 6]])\nresult = moving_sum(arr, 2)\nprint(result)",
      "metadata": {
        "trusted": true
      },
      "outputs": [
        {
          "name": "stdout",
          "text": "[[ 3  6]\n [ 9 15]]\n",
          "output_type": "stream"
        }
      ],
      "execution_count": 45
    },
    {
      "cell_type": "code",
      "source": "arr = np.array([[2, 4, 6], [3, 5, 7]])\nall_even_cols = np.all(arr % 2 == 0, axis=0)\nprint(all_even_cols)",
      "metadata": {
        "trusted": true
      },
      "outputs": [
        {
          "name": "stdout",
          "text": "[False False False]\n",
          "output_type": "stream"
        }
      ],
      "execution_count": 46
    },
    {
      "cell_type": "code",
      "source": "def reshape_array(arr, m, n):\n  return arr.reshape(m, n)\n\noriginal_array = np.array([1, 2, 3, 4, 5, 6])\nreshaped_array = reshape_array(original_array, 2, 3)\nprint(reshaped_array)",
      "metadata": {
        "trusted": true
      },
      "outputs": [
        {
          "name": "stdout",
          "text": "[[1 2 3]\n [4 5 6]]\n",
          "output_type": "stream"
        }
      ],
      "execution_count": 47
    },
    {
      "cell_type": "code",
      "source": "def flatten_matrix(matrix):\n  return matrix.flatten()\n\ninput_matrix = np.array([[1, 2, 3], [4, 5, 6]])\nflattened_array = flatten_matrix(input_matrix)\nprint(flattened_array)",
      "metadata": {
        "trusted": true
      },
      "outputs": [
        {
          "name": "stdout",
          "text": "[1 2 3 4 5 6]\n",
          "output_type": "stream"
        }
      ],
      "execution_count": 48
    },
    {
      "cell_type": "code",
      "source": "def concatenate_arrays(array1, array2, axis):\n  return np.concatenate((array1, array2), axis=axis)\n\narray1 = np.array([[1, 2], [3, 4]])\narray2 = np.array([[5, 6], [7, 8]])\nconcatenated_array = concatenate_arrays(array1, array2, axis=1)\nprint(concatenated_array)",
      "metadata": {
        "trusted": true
      },
      "outputs": [
        {
          "name": "stdout",
          "text": "[[1 2 5 6]\n [3 4 7 8]]\n",
          "output_type": "stream"
        }
      ],
      "execution_count": 49
    },
    {
      "cell_type": "code",
      "source": "def split_array(arr, axis, sections):\n  return np.split(arr, sections, axis=axis)\n\noriginal_array = np.array([[1, 2, 3], [4, 5, 6], [7, 8, 9]])\nsplit_arrays = split_array(original_array, axis=0, sections=3)\nprint(split_arrays)",
      "metadata": {
        "trusted": true
      },
      "outputs": [
        {
          "name": "stdout",
          "text": "[array([[1, 2, 3]]), array([[4, 5, 6]]), array([[7, 8, 9]])]\n",
          "output_type": "stream"
        }
      ],
      "execution_count": 50
    },
    {
      "cell_type": "code",
      "source": "def insert_and_delete(arr, insert_indices, insert_values, delete_indices):\n  arr = np.insert(arr, insert_indices, insert_values)\n  arr = np.delete(arr, delete_indices)\n  return arr\n\noriginal_array = np.array([1, 2, 3, 4, 5])\nindices_to_insert = [2, 4]\nvalues_to_insert = [10, 11]\nindices_to_delete = [1, 3]\nresult_array = insert_and_delete(original_array, indices_to_insert, values_to_insert, indices_to_delete)\nprint(result_array)",
      "metadata": {
        "trusted": true
      },
      "outputs": [
        {
          "name": "stdout",
          "text": "[ 1 10  4 11  5]\n",
          "output_type": "stream"
        }
      ],
      "execution_count": 51
    },
    {
      "cell_type": "code",
      "source": "arr1 = np.random.randint(1, 10, size=5)\narr2 = np.arange(1, 6)\nresult = arr1 + arr2\nprint(result)",
      "metadata": {
        "trusted": true
      },
      "outputs": [
        {
          "name": "stdout",
          "text": "[ 6  4 11 10  7]\n",
          "output_type": "stream"
        }
      ],
      "execution_count": 52
    },
    {
      "cell_type": "code",
      "source": "arr1 = np.arange(10, 0, -1)\narr2 = np.arange(1, 11)\nresult = arr1 - arr2\nprint(result)",
      "metadata": {
        "trusted": true
      },
      "outputs": [
        {
          "name": "stdout",
          "text": "[ 9  7  5  3  1 -1 -3 -5 -7 -9]\n",
          "output_type": "stream"
        }
      ],
      "execution_count": 53
    },
    {
      "cell_type": "code",
      "source": "arr1 = np.random.randint(1, 10, size=5)\narr2 = np.arange(1, 6)\nresult = arr1 * arr2\nprint(result)",
      "metadata": {
        "trusted": true
      },
      "outputs": [
        {
          "name": "stdout",
          "text": "[ 5  2 18 36  5]\n",
          "output_type": "stream"
        }
      ],
      "execution_count": 54
    },
    {
      "cell_type": "code",
      "source": "arr1 = np.arange(2, 11, 2)\narr2 = np.arange(1, 6)\nresult = arr1 / arr2\nprint(result)",
      "metadata": {
        "trusted": true
      },
      "outputs": [
        {
          "name": "stdout",
          "text": "[2. 2. 2. 2. 2.]\n",
          "output_type": "stream"
        }
      ],
      "execution_count": 55
    },
    {
      "cell_type": "code",
      "source": "arr1 = np.arange(1, 6)\narr2 = arr1[::-1]\nresult = arr1 ** arr2\nprint(result)",
      "metadata": {
        "trusted": true
      },
      "outputs": [
        {
          "name": "stdout",
          "text": "[ 1 16 27 16  5]\n",
          "output_type": "stream"
        }
      ],
      "execution_count": 56
    },
    {
      "cell_type": "code",
      "source": "def count_substring_occurrences(arr, substring):\n  return np.char.count(arr, substring).sum()\n\narr = np.array(['hello', 'world', 'hello', 'numpy', 'hello'])\ncount = count_substring_occurrences(arr, 'hello')\nprint(count)",
      "metadata": {
        "trusted": true
      },
      "outputs": [
        {
          "name": "stdout",
          "text": "3\n",
          "output_type": "stream"
        }
      ],
      "execution_count": 57
    },
    {
      "cell_type": "code",
      "source": "def extract_uppercase(arr):\n  return np.char.upper(arr)\n\narr = np.array(['Hello', 'World', 'OpenAI', 'GPT'])\nuppercase_arr = extract_uppercase(arr)\nprint(uppercase_arr)",
      "metadata": {
        "trusted": true
      },
      "outputs": [
        {
          "name": "stdout",
          "text": "['HELLO' 'WORLD' 'OPENAI' 'GPT']\n",
          "output_type": "stream"
        }
      ],
      "execution_count": 58
    },
    {
      "cell_type": "code",
      "source": "def replace_substring(arr, old_substring, new_substring):\n    return np.char.replace(arr, old_substring, new_substring)\n\narr = np.array(['apple', 'banana', 'grape', 'pineapple'])\nnew_arr = replace_substring(arr, 'apple', 'orange')\nprint(new_arr)",
      "metadata": {
        "trusted": true
      },
      "outputs": [
        {
          "name": "stdout",
          "text": "['orange' 'banana' 'grape' 'pineorange']\n",
          "output_type": "stream"
        }
      ],
      "execution_count": 59
    },
    {
      "cell_type": "code",
      "source": "def concatenate_strings(arr1, arr2):\n    return np.char.add(arr1, arr2)\n\narr1 = np.array(['Hello', 'World'])\narr2 = np.array(['Open', 'AI'])\nconcatenated_arr = concatenate_strings(arr1, arr2)\nprint(concatenated_arr)",
      "metadata": {
        "trusted": true
      },
      "outputs": [
        {
          "name": "stdout",
          "text": "['HelloOpen' 'WorldAI']\n",
          "output_type": "stream"
        }
      ],
      "execution_count": 60
    },
    {
      "cell_type": "code",
      "source": "def longest_string(arr):\n    return np.max(np.char.str_len(arr))\n\narr = np.array(['apple', 'banana', 'grape', 'pineapple'])\nlongest_length = longest_string(arr)\nprint(longest_length)",
      "metadata": {
        "trusted": true
      },
      "outputs": [
        {
          "name": "stdout",
          "text": "9\n",
          "output_type": "stream"
        }
      ],
      "execution_count": 61
    },
    {
      "cell_type": "code",
      "source": "data = np.random.randint(1, 1001, 100)\nmean = np.mean(data)\nmedian = np.median(data)\nvariance = np.var(data)\nstd_dev = np.std(data)\nprint(mean, median, variance, std_dev)",
      "metadata": {
        "trusted": true
      },
      "outputs": [
        {
          "name": "stdout",
          "text": "511.24 507.0 85785.30239999999 292.89128085349347\n",
          "output_type": "stream"
        }
      ],
      "execution_count": 62
    },
    {
      "cell_type": "code",
      "source": "data = np.random.randint(1, 101, 50)\npercentile_25 = np.percentile(data, 25)\npercentile_75 = np.percentile(data, 75)\nprint(percentile_25, percentile_75)",
      "metadata": {
        "trusted": true
      },
      "outputs": [
        {
          "name": "stdout",
          "text": "24.0 78.75\n",
          "output_type": "stream"
        }
      ],
      "execution_count": 63
    },
    {
      "cell_type": "code",
      "source": "x = np.random.randn(100)\ny = 2 * x + np.random.randn(100)\ncorr_coef = np.corrcoef(x, y)[0, 1]\nprint(corr_coef)",
      "metadata": {
        "trusted": true
      },
      "outputs": [
        {
          "name": "stdout",
          "text": "0.8574410909421978\n",
          "output_type": "stream"
        }
      ],
      "execution_count": 64
    },
    {
      "cell_type": "code",
      "source": "A = np.array([[1, 2], [3, 4]])\nB = np.array([[5, 6], [7, 8]])\nproduct = np.dot(A, B)\nprint(product)",
      "metadata": {
        "trusted": true
      },
      "outputs": [
        {
          "name": "stdout",
          "text": "[[19 22]\n [43 50]]\n",
          "output_type": "stream"
        }
      ],
      "execution_count": 65
    },
    {
      "cell_type": "code",
      "source": "data = np.random.randint(10, 1001, 50)\npercentile_10 = np.percentile(data, 10)\nmedian = np.percentile(data, 50)\npercentile_90 = np.percentile(data, 90)\nq1 = np.percentile(data, 25)\nq3 = np.percentile(data, 75)\nprint(percentile_10, median, percentile_90, q1, q3)",
      "metadata": {
        "trusted": true
      },
      "outputs": [
        {
          "name": "stdout",
          "text": "121.50000000000001 559.5 907.5 329.5 756.75\n",
          "output_type": "stream"
        }
      ],
      "execution_count": 66
    },
    {
      "cell_type": "code",
      "source": "arr = np.array([10, 20, 30, 40, 50])\nindex = np.where(arr == 30)[0][0]\nprint(index)",
      "metadata": {
        "trusted": true
      },
      "outputs": [
        {
          "name": "stdout",
          "text": "2\n",
          "output_type": "stream"
        }
      ],
      "execution_count": 67
    },
    {
      "cell_type": "code",
      "source": "arr = np.random.randint(1, 10, 10)\nsorted_arr = np.sort(arr)\nprint(sorted_arr)",
      "metadata": {
        "trusted": true
      },
      "outputs": [
        {
          "name": "stdout",
          "text": "[1 1 2 3 3 4 4 5 8 9]\n",
          "output_type": "stream"
        }
      ],
      "execution_count": 68
    },
    {
      "cell_type": "code",
      "source": "arr = np.array([12, 25, 6, 42, 8, 30])\nfiltered_arr = arr[arr > 20]\nprint(filtered_arr)",
      "metadata": {
        "trusted": true
      },
      "outputs": [
        {
          "name": "stdout",
          "text": "[25 42 30]\n",
          "output_type": "stream"
        }
      ],
      "execution_count": 69
    },
    {
      "cell_type": "code",
      "source": "arr = np.array([1, 5, 8, 12, 15])\nfiltered_arr = arr[arr % 3 == 0]\nprint(filtered_arr)",
      "metadata": {
        "trusted": true
      },
      "outputs": [
        {
          "name": "stdout",
          "text": "[12 15]\n",
          "output_type": "stream"
        }
      ],
      "execution_count": 70
    },
    {
      "cell_type": "code",
      "source": "arr = np.array([10, 20, 30, 40, 50])\nfiltered_arr = arr[(arr >= 20) & (arr <= 40)]\nprint(filtered_arr)",
      "metadata": {
        "trusted": true
      },
      "outputs": [
        {
          "name": "stdout",
          "text": "[20 30 40]\n",
          "output_type": "stream"
        }
      ],
      "execution_count": 71
    },
    {
      "cell_type": "code",
      "source": "import numpy as np\n\narr = np.array([1, 2, 3])\nbyte_order = arr.dtype.byteorder\n\nprint(byte_order)  # Output: '<' or '>' depending on the system",
      "metadata": {
        "trusted": true
      },
      "outputs": [
        {
          "name": "stdout",
          "text": "=\n",
          "output_type": "stream"
        }
      ],
      "execution_count": 72
    },
    {
      "cell_type": "code",
      "source": "arr = np.array([1, 2, 3], dtype=np.int32)\narr.byteswap(True)\nprint(arr)",
      "metadata": {
        "trusted": true
      },
      "outputs": [
        {
          "name": "stdout",
          "text": "[16777216 33554432 50331648]\n",
          "output_type": "stream"
        }
      ],
      "execution_count": 73
    },
    {
      "cell_type": "code",
      "source": "arr = np.array([1, 2, 3], dtype=np.int32)\nnew_arr = arr.newbyteorder()\nprint(new_arr)",
      "metadata": {
        "trusted": true
      },
      "outputs": [
        {
          "name": "stdout",
          "text": "[16777216 33554432 50331648]\n",
          "output_type": "stream"
        }
      ],
      "execution_count": 74
    },
    {
      "cell_type": "code",
      "source": "arr = np.array([1, 2, 3], dtype=np.int32)\nnew_arr = arr.newbyteorder('>') if arr.dtype.byteorder == '<' else arr\nprint(new_arr)",
      "metadata": {
        "trusted": true
      },
      "outputs": [
        {
          "name": "stdout",
          "text": "[1 2 3]\n",
          "output_type": "stream"
        }
      ],
      "execution_count": 75
    },
    {
      "cell_type": "code",
      "source": "arr = np.array([1, 2, 3], dtype=np.int32)\nif arr.dtype.byteorder == '<':\n    print(\"Byte swapping is necessary\")\nelse:\n    print(\"Byte swapping is not necessary\")",
      "metadata": {
        "trusted": true
      },
      "outputs": [
        {
          "name": "stdout",
          "text": "Byte swapping is not necessary\n",
          "output_type": "stream"
        }
      ],
      "execution_count": 76
    },
    {
      "cell_type": "code",
      "source": "arr1 = np.array([1, 2, 3, 4, 5])\ncopy_arr = arr1.copy()\ncopy_arr[0] = 10\nprint(arr1)  # Original array remains unchanged",
      "metadata": {
        "trusted": true
      },
      "outputs": [
        {
          "name": "stdout",
          "text": "[1 2 3 4 5]\n",
          "output_type": "stream"
        }
      ],
      "execution_count": 77
    },
    {
      "cell_type": "code",
      "source": "matrix = np.random.randint(1, 10, (3, 3))\nview_slice = matrix[1:, 1:]\nview_slice[0, 0] = 99\nprint(matrix)  # Original matrix is modified",
      "metadata": {
        "trusted": true
      },
      "outputs": [
        {
          "name": "stdout",
          "text": "[[ 7  8  7]\n [ 5 99  7]\n [ 7  9  3]]\n",
          "output_type": "stream"
        }
      ],
      "execution_count": 78
    },
    {
      "cell_type": "code",
      "source": "array_a = np.arange(1, 13).reshape(4, 3)\nview_b = array_a[1:]\nview_b += 5\nprint(array_a)  # Original array is modified",
      "metadata": {
        "trusted": true
      },
      "outputs": [
        {
          "name": "stdout",
          "text": "[[ 1  2  3]\n [ 9 10 11]\n [12 13 14]\n [15 16 17]]\n",
          "output_type": "stream"
        }
      ],
      "execution_count": 79
    },
    {
      "cell_type": "code",
      "source": "orig_array = np.arange(1, 9).reshape(2, 4)\nreshaped_view = orig_array.reshape(4, 2)\nreshaped_view[0, 0] = 99\nprint(orig_array)  # Original array is modified",
      "metadata": {
        "trusted": true
      },
      "outputs": [
        {
          "name": "stdout",
          "text": "[[99  2  3  4]\n [ 5  6  7  8]]\n",
          "output_type": "stream"
        }
      ],
      "execution_count": 80
    },
    {
      "cell_type": "code",
      "source": "data = np.random.randint(1, 10, (3, 4))\ndata_copy = data[data > 5].copy()\ndata_copy[0] = 100\nprint(data)  # Original data remains unchanged",
      "metadata": {
        "trusted": true
      },
      "outputs": [
        {
          "name": "stdout",
          "text": "[[9 1 1 4]\n [9 6 3 1]\n [4 9 3 9]]\n",
          "output_type": "stream"
        }
      ],
      "execution_count": 81
    },
    {
      "cell_type": "code",
      "source": "A = np.array([[1, 2], [3, 4]])\nB = np.array([[5, 6], [7, 8]])\nsum_matrix = A + B\ndiff_matrix = A - B\nprint(sum_matrix)\nprint(diff_matrix)",
      "metadata": {
        "trusted": true
      },
      "outputs": [
        {
          "name": "stdout",
          "text": "[[ 6  8]\n [10 12]]\n[[-4 -4]\n [-4 -4]]\n",
          "output_type": "stream"
        }
      ],
      "execution_count": 82
    },
    {
      "cell_type": "code",
      "source": "C = np.array([[1, 2], [3, 4], [5, 6]])\nD = np.array([[7, 8, 9, 10], [11, 12, 13, 14]])\nproduct_matrix = np.dot(C, D)\nprint(product_matrix)",
      "metadata": {
        "trusted": true
      },
      "outputs": [
        {
          "name": "stdout",
          "text": "[[ 29  32  35  38]\n [ 65  72  79  86]\n [101 112 123 134]]\n",
          "output_type": "stream"
        }
      ],
      "execution_count": 83
    },
    {
      "cell_type": "code",
      "source": "E = np.array([[1, 2, 3], [4, 5, 6]])\ntranspose_E = E.T\nprint(transpose_E)",
      "metadata": {
        "trusted": true
      },
      "outputs": [
        {
          "name": "stdout",
          "text": "[[1 4]\n [2 5]\n [3 6]]\n",
          "output_type": "stream"
        }
      ],
      "execution_count": 84
    },
    {
      "cell_type": "code",
      "source": "F = np.array([[1, 2], [3, 4]])\ndet_F = np.linalg.det(F)\nprint(det_F)",
      "metadata": {
        "trusted": true
      },
      "outputs": [
        {
          "name": "stdout",
          "text": "-2.0000000000000004\n",
          "output_type": "stream"
        }
      ],
      "execution_count": 85
    },
    {
      "cell_type": "code",
      "source": "",
      "metadata": {
        "trusted": true
      },
      "outputs": [],
      "execution_count": null
    }
  ]
}